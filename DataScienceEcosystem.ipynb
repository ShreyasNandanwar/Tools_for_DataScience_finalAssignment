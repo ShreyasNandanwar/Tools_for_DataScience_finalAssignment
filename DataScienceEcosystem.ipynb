{
 "cells": [
  {
   "cell_type": "markdown",
   "id": "d56354d9-f792-4376-9287-6eafc65833ec",
   "metadata": {},
   "source": [
    "<h1>Data Science Tools and Ecosystem</h1>"
   ]
  },
  {
   "cell_type": "markdown",
   "id": "1dc90f98-e7f8-4231-9799-3ac62d10efd2",
   "metadata": {},
   "source": [
    "<p>In this notebook, Data Science Tools and Ecosystem are summarized.</p>"
   ]
  },
  {
   "cell_type": "markdown",
   "id": "aa100122-f04b-4003-b813-9f096597d03f",
   "metadata": {},
   "source": [
    "<p>Some of the popular languages that Data Scientists use are:</p>\n",
    "<ol>\n",
    "    <li>Python</li>\n",
    "    <li>Scala</li>\n",
    "    <li>R</li>\n",
    "    <li>Java</li>"
   ]
  },
  {
   "cell_type": "markdown",
   "id": "3ebb9127-9715-4403-a3d9-fd99681c8a7a",
   "metadata": {
    "tags": []
   },
   "source": [
    "<p>Some of the commonly used libraries used by Data Scientists include:</p>\n",
    "<ol>\n",
    "    <li>Scikit-learn (python)</li>\n",
    "    <li>Numpy (python)</li>\n",
    "    <li>Pandas (python)</li>\n",
    "    <li>Matplotlib (python)</li>\n",
    "    <li>ggplot (R)</li>\n",
    "    <li>Seaborn (python)</li>\n",
    "    <li>caret (R)</li>\n",
    "    \n",
    "    "
   ]
  },
  {
   "cell_type": "markdown",
   "id": "36aa53e1-af0c-42e1-bcd4-d3c455f660fd",
   "metadata": {},
   "source": [
    "| data Science Tools   |\n",
    "|:---------------------|\n",
    "|1. Jupyter Lab        |\n",
    "|2. Google Colab       |\n",
    "|3. Visual Studio code |\n"
   ]
  },
  {
   "cell_type": "markdown",
   "id": "b3dd1d39-d57a-4204-b93b-9ca218c7a8e2",
   "metadata": {},
   "source": [
    "<h3>Below are a few examples of evaluating arithmetic expressions in Python</h3>"
   ]
  },
  {
   "cell_type": "code",
   "execution_count": 3,
   "id": "f2725bc6-52f3-44ae-ada6-79d5127f0249",
   "metadata": {
    "tags": []
   },
   "outputs": [
    {
     "data": {
      "text/plain": [
       "17"
      ]
     },
     "execution_count": 3,
     "metadata": {},
     "output_type": "execute_result"
    }
   ],
   "source": [
    "# This a simple arithmetic expression to mutiply then add integers\n",
    "\n",
    "(3*4)+5"
   ]
  },
  {
   "cell_type": "code",
   "execution_count": 4,
   "id": "12989016-0b56-4bca-a6df-614eeba91ce0",
   "metadata": {
    "tags": []
   },
   "outputs": [
    {
     "data": {
      "text/plain": [
       "3.3333333333333335"
      ]
     },
     "execution_count": 4,
     "metadata": {},
     "output_type": "execute_result"
    }
   ],
   "source": [
    "# This will convert 200 minutes to hours by diving by 60\n",
    "\n",
    "200/60"
   ]
  },
  {
   "cell_type": "markdown",
   "id": "16b93ec5-06a2-4f33-b6b4-68dcdea30370",
   "metadata": {},
   "source": [
    "<p>Objectives</p>\n",
    "<ul>\n",
    "    <li>Create a Jupyter Notebook</li>\n",
    "    <li>Create a markdown cell for an introduction</li>\n",
    "    <li>Create a markdown cell with a table of Data Science tools</li>\n",
    "    <li>Create a markdown cell to list data science libraries</li>"
   ]
  },
  {
   "cell_type": "markdown",
   "id": "ca10156a-a3fb-4278-a99b-d2cf4204669f",
   "metadata": {},
   "source": [
    "<h2>Author</h2>\n",
    "<p>Shreyas Nandanwar</p>"
   ]
  },
  {
   "cell_type": "code",
   "execution_count": null,
   "id": "9d563590-6dc2-4c2e-9594-24b8fa4ba3b4",
   "metadata": {},
   "outputs": [],
   "source": []
  }
 ],
 "metadata": {
  "kernelspec": {
   "display_name": "Python",
   "language": "python",
   "name": "conda-env-python-py"
  },
  "language_info": {
   "codemirror_mode": {
    "name": "ipython",
    "version": 3
   },
   "file_extension": ".py",
   "mimetype": "text/x-python",
   "name": "python",
   "nbconvert_exporter": "python",
   "pygments_lexer": "ipython3",
   "version": "3.7.12"
  }
 },
 "nbformat": 4,
 "nbformat_minor": 5
}
